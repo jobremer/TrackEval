{
 "cells": [
  {
   "cell_type": "code",
   "execution_count": 2,
   "metadata": {},
   "outputs": [],
   "source": [
    "import sys\n",
    "import os\n",
    "import bz2\n",
    "import csv\n",
    "import pandas as pd\n",
    "import ast\n",
    "# import json\n",
    "import ujson\n",
    "\n",
    "ENCODING = \"UTF-8\"\n",
    "\n",
    "dirpath = \"convert_tracks/OTCamera/\"\n",
    "filename = \"Testvideo_Cars-Cyclist_FR20_2020-01-01_00-00-00\"\n",
    "fileending = '.ottrk'\n",
    "filepath = os.path.join(dirpath, filename) + fileending"
   ]
  },
  {
   "cell_type": "code",
   "execution_count": 11,
   "metadata": {},
   "outputs": [],
   "source": [
    "def ottrk_to_txt(filepath, key1 = 'data', key2 = 'detections'):\n",
    "    # Open ottrk-file\n",
    "    with bz2.open(filepath, \"rt\", encoding=ENCODING) as file:\n",
    "        dictfile = ujson.load(file)\n",
    "    \n",
    "    # Write in DataFrame\n",
    "    detections = pd.DataFrame.from_dict(dictfile[key1][key2])\n",
    "    detections = detections[['x', 'y', 'w', 'h', 'frame', 'track-id']] #bb_left = x, bb_top = y\n",
    "\n",
    "    # Transform to MOTChallenge-format (x,y,z are ignored fpr 2D-challenges)\n",
    "    detections['conf'] = 1\n",
    "    detections['3D_x'] = -1\n",
    "    detections['3D_y'] = -1\n",
    "    detections['3D_z'] = -1\n",
    "    detections = detections[['frame', 'track-id', 'x', 'y', 'h', 'w', 'conf', '3D_x', '3D_y', '3D_z']]\n",
    "\n",
    "    # Export\n",
    "    detections.to_csv(dirpath + filename + '.txt', encoding='utf-8', header=False, index=False)\n",
    "\n",
    "    return detections\n",
    "\n",
    "detections = ottrk_to_txt(filepath = filepath)"
   ]
  }
 ],
 "metadata": {
  "kernelspec": {
   "display_name": ".venv",
   "language": "python",
   "name": "python3"
  },
  "language_info": {
   "codemirror_mode": {
    "name": "ipython",
    "version": 3
   },
   "file_extension": ".py",
   "mimetype": "text/x-python",
   "name": "python",
   "nbconvert_exporter": "python",
   "pygments_lexer": "ipython3",
   "version": "3.10.11"
  }
 },
 "nbformat": 4,
 "nbformat_minor": 2
}
